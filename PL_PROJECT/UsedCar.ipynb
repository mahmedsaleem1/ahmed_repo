{
 "cells": [
  {
   "cell_type": "code",
   "execution_count": 18,
   "id": "534110dc",
   "metadata": {},
   "outputs": [],
   "source": [
    "#used_car.info()\n",
    "#used_car.shape\n",
    "#used_car.describe()\n",
    "#used_car.head()\n",
    "# no issues found when | used_car['Year'].unique()\n",
    "# no issues found when | used_car['Price'].unique()\n",
    "# no issues found when | used_car['Fuel'].unique()\n",
    "# no issues found when | used_car['KMs Driven'].unique()\n",
    "# no issues found when | used_car['Brand'].unique()\n",
    "# no issues found when | used_car['Registered City'].unique()\n",
    "# no issues found when | used_car['Model'].unique()"
   ]
  },
  {
   "cell_type": "code",
   "execution_count": 112,
   "id": "554d4f65",
   "metadata": {},
   "outputs": [
    {
     "data": {
      "text/plain": [
       "['Used_Car.joblib']"
      ]
     },
     "execution_count": 112,
     "metadata": {},
     "output_type": "execute_result"
    }
   ],
   "source": [
    "import pandas as pd\n",
    "import numpy as np\n",
    "from sklearn.model_selection import train_test_split\n",
    "from sklearn.metrics import r2_score\n",
    "from sklearn.compose import ColumnTransformer\n",
    "from sklearn.preprocessing import OneHotEncoder \n",
    "from sklearn.compose import make_column_transformer \n",
    "from sklearn.pipeline import make_pipeline\n",
    "from sklearn.ensemble import RandomForestRegressor\n",
    "import joblib\n",
    "\n",
    "used_car = pd.read_csv('used_cars_dataset.csv')\n",
    "X = used_car.drop(columns='Price', axis=1)\n",
    "y = used_car['Price']\n",
    "X_train, X_test, y_train, y_test = train_test_split(X, y, test_size=0.15)\n",
    "model = RandomForestRegressor()\n",
    "# Create a column transformer with OneHotEncoder\n",
    "column_trans = make_column_transformer(\n",
    "    (OneHotEncoder(handle_unknown='ignore'), [\"Brand\", \"Fuel\", \"Model\", \"Registered City\"]),\n",
    "    remainder='passthrough'\n",
    ")\n",
    "\n",
    "# Create a pipeline with column transformer and Random Forest regression model\n",
    "pipe = make_pipeline(column_trans, model)\n",
    "\n",
    "# Fit the pipeline to the training data\n",
    "pipe.fit(X_train, y_train)\n",
    "\n",
    "# Make predictions on the test set\n",
    "#predictions = pipe.predict(pd.DataFrame([['Toyota','Petrol',2000,'Prado','Karachi',2017]],columns=['Brand','Fuel','KMs Driven','Model','Registered City','Year']))\n",
    "#predictions\n",
    "\n",
    "joblib.dump(pipe,'Used_Car.joblib')\n"
   ]
  },
  {
   "cell_type": "code",
   "execution_count": null,
   "id": "261eb8a5",
   "metadata": {},
   "outputs": [],
   "source": []
  },
  {
   "cell_type": "code",
   "execution_count": null,
   "id": "0a92dcd5",
   "metadata": {},
   "outputs": [],
   "source": []
  }
 ],
 "metadata": {
  "kernelspec": {
   "display_name": "Python 3 (ipykernel)",
   "language": "python",
   "name": "python3"
  },
  "language_info": {
   "codemirror_mode": {
    "name": "ipython",
    "version": 3
   },
   "file_extension": ".py",
   "mimetype": "text/x-python",
   "name": "python",
   "nbconvert_exporter": "python",
   "pygments_lexer": "ipython3",
   "version": "3.11.5"
  }
 },
 "nbformat": 4,
 "nbformat_minor": 5
}
